{
 "cells": [
  {
   "cell_type": "markdown",
   "metadata": {},
   "source": [
    "## Deriving the transfer function of the Simper SVF filter structure\n",
    "\n",
    "HTML output built with: jupyter nbconvert --to html svf_z_domain_tf.ipynb\n",
    "\n",
    "Source:\n",
    "https://cytomic.com/files/dsp/SvfLinearTrapOptimised2.pdf\n",
    "\n",
    "We will follow the second form of the algorithm, found on page 6.\n",
    "\n",
    "Sympy can't (very easily) be bent to display transfer functions in terms of $z^{-1}, z^{-2}, ...$ which is the convention. Plain $z$ will be used here instead - keep in mind it actually means $z^{-1}$."
   ]
  },
  {
   "cell_type": "code",
   "execution_count": 1,
   "metadata": {
    "collapsed": true
   },
   "outputs": [
    {
     "name": "stderr",
     "output_type": "stream",
     "text": [
      "/opt/anaconda/lib/python3.8/site-packages/mpmath/ctx_mp_python.py:892: SyntaxWarning: \"is\" with a literal. Did you mean \"==\"?\n",
      "  if other is 0:\n",
      "/opt/anaconda/lib/python3.8/site-packages/mpmath/ctx_mp_python.py:986: SyntaxWarning: \"is\" with a literal. Did you mean \"==\"?\n",
      "  if other is 0:\n"
     ]
    }
   ],
   "source": [
    "from sympy import *\n",
    "init_printing()\n",
    ".\n",
    "z = symbols(\"z\")"
   ]
  },
  {
   "cell_type": "markdown",
   "metadata": {},
   "source": [
    "Start with the parameters.\n",
    "\n",
    "```\n",
    "g = Tan[π * cutoff / samplerate];\n",
    "k = 1/Q = 2 - 2*res;\n",
    "a1 = 1/(1 + g*(g + k));\n",
    "a2 = g*a1;\n",
    "```\n",
    "\n",
    "The other coefficients defining the shape of the filter (`m0, m1, m2`) will be ignored for now, as they are only used to \"mix\" the output."
   ]
  },
  {
   "cell_type": "code",
   "execution_count": 2,
   "metadata": {},
   "outputs": [
    {
     "data": {
      "image/png": "[encoded data removed]",
      "text/latex": [
       "$\\displaystyle \\left( \\frac{1}{g \\left(g + k\\right) + 1}, \\  \\frac{g}{g \\left(g + k\\right) + 1}\\right)$"
      ],
      "text/plain": [
       "⎛      1              g      ⎞\n",
       "⎜─────────────, ─────────────⎟\n",
       "⎝g⋅(g + k) + 1  g⋅(g + k) + 1⎠"
      ]
     },
     "execution_count": 2,
     "metadata": {},
     "output_type": "execute_result"
    }
   ],
   "source": [
    "g, k = symbols(\"g k\")\n",
    "a1 = 1/(1 + g*(g + k))\n",
    "a2 = g*a1\n",
    "\n",
    "(a1, a2)"
   ]
  },
  {
   "cell_type": "markdown",
   "metadata": {},
   "source": [
    "Then the computation.\n",
    "\n",
    "The variable `v0` represents the input signal - we will consider it to represent the z-transform of the input over time. `v1` and `v2` represent two other nodes in the block diagram.\n",
    "\n",
    "The state variables `ic1eq` and `ic2eq` will be defined as unknowns first, and then we will solve them using their equations.\n",
    "\n",
    "The relevant lines of the algorithm are:\n",
    "\n",
    "```\n",
    "v1 = a1 * ic1eq + a2 * (v0 - ic2eq);\n",
    "v2 = ic2eq + g * v1;\n",
    "```\n",
    "\n",
    "Notice that the `ic1eq` and `ic2eq` actually refer to the _previous_ values of these samples. This corresponds to multiplying by $z$ (contrary to convetion!) in the z-domain."
   ]
  },
  {
   "cell_type": "code",
   "execution_count": 3,
   "metadata": {},
   "outputs": [
    {
     "data": {
      "image/png": "[encoded data removed]",
      "text/latex": [
       "$\\displaystyle \\left( \\frac{g \\left(- ic_{2} z + v_{0}\\right)}{g \\left(g + k\\right) + 1} + \\frac{ic_{1} z}{g \\left(g + k\\right) + 1}, \\  g \\left(\\frac{g \\left(- ic_{2} z + v_{0}\\right)}{g \\left(g + k\\right) + 1} + \\frac{ic_{1} z}{g \\left(g + k\\right) + 1}\\right) + ic_{2} z\\right)$"
      ],
      "text/plain": [
       "⎛g⋅(-ic₂⋅z + v₀)       ic₁⋅z        ⎛g⋅(-ic₂⋅z + v₀)       ic₁⋅z    ⎞        ⎞\n",
       "⎜─────────────── + ─────────────, g⋅⎜─────────────── + ─────────────⎟ + ic₂⋅z⎟\n",
       "⎝ g⋅(g + k) + 1    g⋅(g + k) + 1    ⎝ g⋅(g + k) + 1    g⋅(g + k) + 1⎠        ⎠"
      ]
     },
     "execution_count": 3,
     "metadata": {},
     "output_type": "execute_result"
    }
   ],
   "source": [
    "v0, ic1eq, ic2eq = symbols(\"v0 ic_1 ic_2\")\n",
    "\n",
    "v1 = a1 * ic1eq * z + a2 * (v0 - ic2eq * z)\n",
    "v2 = ic2eq * z + g * v1\n",
    "\n",
    "(v1, v2)"
   ]
  },
  {
   "cell_type": "markdown",
   "metadata": {},
   "source": [
    "The \"new\" values for `ic1eq, ic2eq` are computed as follows:\n",
    "\n",
    "```\n",
    "ic1eq = 2*v1 - ic1eq;\n",
    "ic2eq = 2*v2 - ic2eq;\n",
    "```\n",
    "\n",
    "depending on the current values of `v1, v2`, and the previous values of `ic1eq, ic2eq`.\n",
    "\n",
    "Consider this as a system of equations, and solve it:"
   ]
  },
  {
   "cell_type": "code",
   "execution_count": 4,
   "metadata": {},
   "outputs": [
    {
     "data": {
      "image/png": "[encoded data removed]",
      "text/latex": [
       "$\\displaystyle \\left\\{ ic_{1} : - \\frac{2 g v_{0} \\left(z - 1\\right)}{g^{2} z^{2} + 2 g^{2} z + g^{2} - g k z^{2} + g k + z^{2} - 2 z + 1}, \\  ic_{2} : \\frac{2 g^{2} v_{0} \\left(z + 1\\right)}{g^{2} z^{2} + 2 g^{2} z + g^{2} - g k z^{2} + g k + z^{2} - 2 z + 1}\\right\\}$"
      ],
      "text/plain": [
       "⎧                                                                             \n",
       "⎪                      -2⋅g⋅v₀⋅(z - 1)                                        \n",
       "⎨ic₁: ─────────────────────────────────────────────────, ic₂: ────────────────\n",
       "⎪      2  2      2      2        2          2                  2  2      2    \n",
       "⎩     g ⋅z  + 2⋅g ⋅z + g  - g⋅k⋅z  + g⋅k + z  - 2⋅z + 1       g ⋅z  + 2⋅g ⋅z +\n",
       "\n",
       "    2                            ⎫\n",
       " 2⋅g ⋅v₀⋅(z + 1)                 ⎪\n",
       "─────────────────────────────────⎬\n",
       "  2        2          2          ⎪\n",
       " g  - g⋅k⋅z  + g⋅k + z  - 2⋅z + 1⎭"
      ]
     },
     "execution_count": 4,
     "metadata": {},
     "output_type": "execute_result"
    }
   ],
   "source": [
    "equations = [\n",
    "    2*v1 - ic1eq * z - ic1eq, # = 0\n",
    "    2*v2 - ic2eq * z - ic2eq, # = 0\n",
    "]\n",
    "solution = solve(equations, (ic1eq, ic2eq))\n",
    "\n",
    "solution"
   ]
  },
  {
   "cell_type": "markdown",
   "metadata": {},
   "source": [
    "We may now subsitute the solution into `v1` and `v2` to obtain the transfer functions\n",
    "\n",
    "$$\n",
    "\\begin{aligned}\n",
    "H_0(z) &= \\frac {v_0(z)} {v_0(z)} = 1  \\\\\n",
    "H_1(z) &= \\frac {v_1(z)} {v_0(z)} \\\\\n",
    "H_2(z) &= \\frac {v_2(z)} {v_0(z)}\n",
    "\\end{aligned}\n",
    "$$"
   ]
  },
  {
   "cell_type": "code",
   "execution_count": 5,
   "metadata": {},
   "outputs": [
    {
     "data": {
      "image/png": "[encoded data removed]",
      "text/latex": [
       "$\\displaystyle \\left( - \\frac{g \\left(z^{2} - 1\\right)}{g^{2} + g k + z^{2} \\left(g^{2} - g k + 1\\right) + z \\left(2 g^{2} - 2\\right) + 1}, \\  \\frac{g^{2} \\left(z^{2} + 2 z + 1\\right)}{g^{2} + g k + z^{2} \\left(g^{2} - g k + 1\\right) + z \\left(2 g^{2} - 2\\right) + 1}\\right)$"
      ],
      "text/plain": [
       "⎛                     ⎛ 2    ⎞                                    2 ⎛ 2       \n",
       "⎜                  -g⋅⎝z  - 1⎠                                   g ⋅⎝z  + 2⋅z \n",
       "⎜───────────────────────────────────────────────, ────────────────────────────\n",
       "⎜ 2          2 ⎛ 2          ⎞     ⎛   2    ⎞       2          2 ⎛ 2          ⎞\n",
       "⎝g  + g⋅k + z ⋅⎝g  - g⋅k + 1⎠ + z⋅⎝2⋅g  - 2⎠ + 1  g  + g⋅k + z ⋅⎝g  - g⋅k + 1⎠\n",
       "\n",
       "   ⎞               ⎞\n",
       "+ 1⎠               ⎟\n",
       "───────────────────⎟\n",
       "     ⎛   2    ⎞    ⎟\n",
       " + z⋅⎝2⋅g  - 2⎠ + 1⎠"
      ]
     },
     "execution_count": 5,
     "metadata": {},
     "output_type": "execute_result"
    }
   ],
   "source": [
    "H0 = 1\n",
    "H1 = v1.subs(solution) / v0\n",
    "H2 = v2.subs(solution) / v0\n",
    "\n",
    "H1 = collect(simplify(H1), z)\n",
    "H2 = collect(simplify(H2), z)\n",
    "\n",
    "(H1, H2)"
   ]
  },
  {
   "cell_type": "markdown",
   "metadata": {},
   "source": [
    "How convenient, the denominators seem to be the same! That is to be expected of course,\n",
    "since taking linear combinations of $H_1, H_2$ cannot result in anything that has more than two poles, because the order of the system is 2."
   ]
  },
  {
   "cell_type": "code",
   "execution_count": 6,
   "metadata": {},
   "outputs": [
    {
     "data": {
      "image/png": "[encoded data removed]",
      "text/latex": [
       "$\\displaystyle g^{2} + g k + z^{2} \\left(g^{2} - g k + 1\\right) + z \\left(2 g^{2} - 2\\right) + 1$"
      ],
      "text/plain": [
       " 2          2 ⎛ 2          ⎞     ⎛   2    ⎞    \n",
       "g  + g⋅k + z ⋅⎝g  - g⋅k + 1⎠ + z⋅⎝2⋅g  - 2⎠ + 1"
      ]
     },
     "execution_count": 6,
     "metadata": {},
     "output_type": "execute_result"
    }
   ],
   "source": [
    "(H1_num, H1_denom) = fraction(H1)\n",
    "(H2_num, H2_denom) = fraction(H2)\n",
    "\n",
    "assert H1_denom == H2_denom\n",
    "denom = H1_denom\n",
    "denom"
   ]
  },
  {
   "cell_type": "markdown",
   "metadata": {},
   "source": [
    "We can now assemble the complete transfer function, taking into account the mix coefficients `m0, m1, m2`.\n",
    "\n",
    "$$\n",
    "H(z) = m_0 H_0(z) + m_1 H_1(z) + m_2 H_2(z)\n",
    "$$"
   ]
  },
  {
   "cell_type": "code",
   "execution_count": 7,
   "metadata": {},
   "outputs": [
    {
     "name": "stdout",
     "output_type": "stream",
     "text": [
      "m0 + (g**2*m2*(z**2 + 2*z + 1) - g*m1*(z**2 - 1))/(g**2 + g*k + z**2*(g**2 - g*k + 1) + z*(2*g**2 - 2) + 1)\n"
     ]
    },
    {
     "data": {
      "image/png": "[encoded data removed]",
      "text/latex": [
       "$\\displaystyle m_{0} + \\frac{g^{2} m_{2} \\left(z^{2} + 2 z + 1\\right) - g m_{1} \\left(z^{2} - 1\\right)}{g^{2} + g k + z^{2} \\left(g^{2} - g k + 1\\right) + z \\left(2 g^{2} - 2\\right) + 1}$"
      ],
      "text/plain": [
       "            2    ⎛ 2          ⎞        ⎛ 2    ⎞     \n",
       "           g ⋅m₂⋅⎝z  + 2⋅z + 1⎠ - g⋅m₁⋅⎝z  - 1⎠     \n",
       "m₀ + ───────────────────────────────────────────────\n",
       "      2          2 ⎛ 2          ⎞     ⎛   2    ⎞    \n",
       "     g  + g⋅k + z ⋅⎝g  - g⋅k + 1⎠ + z⋅⎝2⋅g  - 2⎠ + 1"
      ]
     },
     "execution_count": 7,
     "metadata": {},
     "output_type": "execute_result"
    }
   ],
   "source": [
    "m0, m1, m2 = symbols(\"m0 m1 m2\")\n",
    "\n",
    "H = m0 * H0 + (m1 * H1_num + m2 * H2_num) / denom\n",
    "\n",
    "print(H)\n",
    "H"
   ]
  },
  {
   "cell_type": "markdown",
   "metadata": {},
   "source": [
    "## Sanity check: High pass filter"
   ]
  },
  {
   "cell_type": "code",
   "execution_count": 8,
   "metadata": {},
   "outputs": [
    {
     "data": {
      "image/png": "[encoded data removed]",
      "text/plain": [
       "<Figure size 432x288 with 1 Axes>"
      ]
     },
     "metadata": {
      "needs_background": "light"
     },
     "output_type": "display_data"
    },
    {
     "data": {
      "text/plain": [
       "<sympy.plotting.plot.Plot at 0x7f0a707a9fd0>"
      ]
     },
     "execution_count": 8,
     "metadata": {},
     "output_type": "execute_result"
    }
   ],
   "source": [
    "from sympy.functions import tan, exp\n",
    "\n",
    "samplerate = 40_000\n",
    "cutoff = sqrt(samplerate/2)\n",
    "Q = 0.9\n",
    "\n",
    "f = symbols(\"f\")\n",
    "\n",
    "H_hp_f = H.subs({\n",
    "    g: tan(pi * cutoff / samplerate),\n",
    "    k: 1/Q,\n",
    "    m0: 1,\n",
    "    m1: -1/Q, # = -k\n",
    "    m2: -1,\n",
    "    z: exp(2*I*pi * f / samplerate)**-1,\n",
    "})\n",
    "\n",
    "plot(abs(H_hp_f), (f, 1, samplerate/2), xscale='log', yscale='log')"
   ]
  }
 ],
 "metadata": {
  "kernelspec": {
   "display_name": "Python 3",
   "language": "python",
   "name": "python3"
  },
  "language_info": {
   "codemirror_mode": {
    "name": "ipython",
    "version": 3
   },
   "file_extension": ".py",
   "mimetype": "text/x-python",
   "name": "python",
   "nbconvert_exporter": "python",
   "pygments_lexer": "ipython3",
   "version": "3.8.5"
  }
 },
 "nbformat": 4,
 "nbformat_minor": 4
}
